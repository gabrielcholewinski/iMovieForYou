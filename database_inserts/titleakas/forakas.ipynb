{
  "nbformat": 4,
  "nbformat_minor": 0,
  "metadata": {
    "colab": {
      "name": "Untitled2.ipynb",
      "provenance": [],
      "collapsed_sections": []
    },
    "kernelspec": {
      "name": "python3",
      "display_name": "Python 3"
    },
    "language_info": {
      "name": "python"
    }
  },
  "cells": [
    {
      "cell_type": "code",
      "metadata": {
        "id": "N8PTds3976xa"
      },
      "source": [
        "import pandas as pd\n",
        "\n"
      ],
      "execution_count": null,
      "outputs": []
    },
    {
      "cell_type": "code",
      "metadata": {
        "id": "zOcjQb2_90Zb"
      },
      "source": [
        "imdb_movies = pd.read_csv(r\"/content/drive/MyDrive/data/new/title.akas.tsv\" , sep='\\t', low_memory=False, quoting=3)"
      ],
      "execution_count": null,
      "outputs": []
    },
    {
      "cell_type": "code",
      "metadata": {
        "id": "0w_BK42F9-2J"
      },
      "source": [
        "imdb_movies = imdb_movies.drop(['types','attributes','isOriginalTitle'], axis=1)"
      ],
      "execution_count": null,
      "outputs": []
    },
    {
      "cell_type": "code",
      "metadata": {
        "colab": {
          "base_uri": "https://localhost:8080/"
        },
        "id": "xfJeWiQh_GBN",
        "outputId": "c6ce72e3-8e6c-4d34-9009-e10f08b5e488"
      },
      "source": [
        "imdb_movies.columns"
      ],
      "execution_count": null,
      "outputs": [
        {
          "output_type": "execute_result",
          "data": {
            "text/plain": [
              "Index(['titleId', 'ordering', 'title', 'region', 'language'], dtype='object')"
            ]
          },
          "metadata": {
            "tags": []
          },
          "execution_count": 28
        }
      ]
    },
    {
      "cell_type": "code",
      "metadata": {
        "id": "AyoICf-3X5N2"
      },
      "source": [
        "imdb_movies['title'] = imdb_movies['title'].replace(',','', regex=True)\n",
        "imdb_movies['title'] = imdb_movies['title'].replace('\"','', regex=True)\n",
        "imdb_movies['title'] = imdb_movies['title'].replace(';','', regex=True)"
      ],
      "execution_count": null,
      "outputs": []
    },
    {
      "cell_type": "code",
      "metadata": {
        "colab": {
          "base_uri": "https://localhost:8080/",
          "height": 301
        },
        "id": "TSlDCBgG-nFc",
        "outputId": "2a5d2aa3-1729-44fa-870f-fcc520b2c0d9"
      },
      "source": [
        "imdb_movies[imdb_movies['titleId']==\"tt0097089\"]"
      ],
      "execution_count": null,
      "outputs": [
        {
          "output_type": "execute_result",
          "data": {
            "text/html": [
              "<div>\n",
              "<style scoped>\n",
              "    .dataframe tbody tr th:only-of-type {\n",
              "        vertical-align: middle;\n",
              "    }\n",
              "\n",
              "    .dataframe tbody tr th {\n",
              "        vertical-align: top;\n",
              "    }\n",
              "\n",
              "    .dataframe thead th {\n",
              "        text-align: right;\n",
              "    }\n",
              "</style>\n",
              "<table border=\"1\" class=\"dataframe\">\n",
              "  <thead>\n",
              "    <tr style=\"text-align: right;\">\n",
              "      <th></th>\n",
              "      <th>titleId</th>\n",
              "      <th>ordering</th>\n",
              "      <th>title</th>\n",
              "      <th>region</th>\n",
              "      <th>language</th>\n",
              "    </tr>\n",
              "  </thead>\n",
              "  <tbody>\n",
              "    <tr>\n",
              "      <th>619693</th>\n",
              "      <td>tt0097089</td>\n",
              "      <td>1</td>\n",
              "      <td>Sex and the Married Detective</td>\n",
              "      <td>\\N</td>\n",
              "      <td>\\N</td>\n",
              "    </tr>\n",
              "    <tr>\n",
              "      <th>619694</th>\n",
              "      <td>tt0097089</td>\n",
              "      <td>2</td>\n",
              "      <td>Studie i mord</td>\n",
              "      <td>SE</td>\n",
              "      <td>\\N</td>\n",
              "    </tr>\n",
              "    <tr>\n",
              "      <th>619695</th>\n",
              "      <td>tt0097089</td>\n",
              "      <td>3</td>\n",
              "      <td>Sesso e il poliziotto sposato</td>\n",
              "      <td>IT</td>\n",
              "      <td>\\N</td>\n",
              "    </tr>\n",
              "    <tr>\n",
              "      <th>619696</th>\n",
              "      <td>tt0097089</td>\n",
              "      <td>4</td>\n",
              "      <td>Sex and the Married Detective</td>\n",
              "      <td>US</td>\n",
              "      <td>\\N</td>\n",
              "    </tr>\n",
              "    <tr>\n",
              "      <th>619697</th>\n",
              "      <td>tt0097089</td>\n",
              "      <td>5</td>\n",
              "      <td>Fantasmes</td>\n",
              "      <td>CA</td>\n",
              "      <td>fr</td>\n",
              "    </tr>\n",
              "    <tr>\n",
              "      <th>619698</th>\n",
              "      <td>tt0097089</td>\n",
              "      <td>6</td>\n",
              "      <td>Seksiä komisario Columbo!</td>\n",
              "      <td>FI</td>\n",
              "      <td>\\N</td>\n",
              "    </tr>\n",
              "    <tr>\n",
              "      <th>619699</th>\n",
              "      <td>tt0097089</td>\n",
              "      <td>7</td>\n",
              "      <td>Black Lady</td>\n",
              "      <td>XWG</td>\n",
              "      <td>\\N</td>\n",
              "    </tr>\n",
              "    <tr>\n",
              "      <th>619700</th>\n",
              "      <td>tt0097089</td>\n",
              "      <td>8</td>\n",
              "      <td>La signora in nero</td>\n",
              "      <td>IT</td>\n",
              "      <td>\\N</td>\n",
              "    </tr>\n",
              "  </tbody>\n",
              "</table>\n",
              "</div>"
            ],
            "text/plain": [
              "          titleId  ordering                          title region language\n",
              "619693  tt0097089         1  Sex and the Married Detective     \\N       \\N\n",
              "619694  tt0097089         2                  Studie i mord     SE       \\N\n",
              "619695  tt0097089         3  Sesso e il poliziotto sposato     IT       \\N\n",
              "619696  tt0097089         4  Sex and the Married Detective     US       \\N\n",
              "619697  tt0097089         5                      Fantasmes     CA       fr\n",
              "619698  tt0097089         6      Seksiä komisario Columbo!     FI       \\N\n",
              "619699  tt0097089         7                     Black Lady    XWG       \\N\n",
              "619700  tt0097089         8             La signora in nero     IT       \\N"
            ]
          },
          "metadata": {
            "tags": []
          },
          "execution_count": 30
        }
      ]
    },
    {
      "cell_type": "code",
      "metadata": {
        "id": "UPSUYjxrYOKf"
      },
      "source": [
        "#imdb_movies['titleId'] = imdb_movies['titleId'].map(lambda x: x.lstrip('0'))\n",
        "imdb_movies['titleId'] = imdb_movies['titleId'].map(lambda x: x.lstrip('tt'))\n"
      ],
      "execution_count": null,
      "outputs": []
    },
    {
      "cell_type": "code",
      "metadata": {
        "colab": {
          "base_uri": "https://localhost:8080/",
          "height": 424
        },
        "id": "XRRlZoZRYe_m",
        "outputId": "add87a87-73fd-40a7-ff16-15ef47db4c78"
      },
      "source": [
        "#imdb_movies['titleId'] = imdb_movies['titleId'].map(lambda x: x.lstrip(r'0+'))\n",
        "imdb_movies['titleId'] = imdb_movies['titleId'].map(lambda x: x.lstrip(r'0+'))\n",
        "imdb_movies"
      ],
      "execution_count": null,
      "outputs": [
        {
          "output_type": "execute_result",
          "data": {
            "text/html": [
              "<div>\n",
              "<style scoped>\n",
              "    .dataframe tbody tr th:only-of-type {\n",
              "        vertical-align: middle;\n",
              "    }\n",
              "\n",
              "    .dataframe tbody tr th {\n",
              "        vertical-align: top;\n",
              "    }\n",
              "\n",
              "    .dataframe thead th {\n",
              "        text-align: right;\n",
              "    }\n",
              "</style>\n",
              "<table border=\"1\" class=\"dataframe\">\n",
              "  <thead>\n",
              "    <tr style=\"text-align: right;\">\n",
              "      <th></th>\n",
              "      <th>titleId</th>\n",
              "      <th>ordering</th>\n",
              "      <th>title</th>\n",
              "      <th>region</th>\n",
              "      <th>language</th>\n",
              "    </tr>\n",
              "  </thead>\n",
              "  <tbody>\n",
              "    <tr>\n",
              "      <th>0</th>\n",
              "      <td>1</td>\n",
              "      <td>1</td>\n",
              "      <td>Carmencita - spanyol tánc</td>\n",
              "      <td>HU</td>\n",
              "      <td>\\N</td>\n",
              "    </tr>\n",
              "    <tr>\n",
              "      <th>1</th>\n",
              "      <td>1</td>\n",
              "      <td>2</td>\n",
              "      <td>Καρμενσίτα</td>\n",
              "      <td>GR</td>\n",
              "      <td>\\N</td>\n",
              "    </tr>\n",
              "    <tr>\n",
              "      <th>2</th>\n",
              "      <td>1</td>\n",
              "      <td>3</td>\n",
              "      <td>Карменсита</td>\n",
              "      <td>RU</td>\n",
              "      <td>\\N</td>\n",
              "    </tr>\n",
              "    <tr>\n",
              "      <th>3</th>\n",
              "      <td>1</td>\n",
              "      <td>4</td>\n",
              "      <td>Carmencita</td>\n",
              "      <td>US</td>\n",
              "      <td>\\N</td>\n",
              "    </tr>\n",
              "    <tr>\n",
              "      <th>4</th>\n",
              "      <td>1</td>\n",
              "      <td>5</td>\n",
              "      <td>Carmencita</td>\n",
              "      <td>\\N</td>\n",
              "      <td>\\N</td>\n",
              "    </tr>\n",
              "    <tr>\n",
              "      <th>...</th>\n",
              "      <td>...</td>\n",
              "      <td>...</td>\n",
              "      <td>...</td>\n",
              "      <td>...</td>\n",
              "      <td>...</td>\n",
              "    </tr>\n",
              "    <tr>\n",
              "      <th>19527966</th>\n",
              "      <td>9916852</td>\n",
              "      <td>3</td>\n",
              "      <td>Folge #3.20</td>\n",
              "      <td>DE</td>\n",
              "      <td>de</td>\n",
              "    </tr>\n",
              "    <tr>\n",
              "      <th>19527967</th>\n",
              "      <td>9916852</td>\n",
              "      <td>4</td>\n",
              "      <td>エピソード #3.20</td>\n",
              "      <td>JP</td>\n",
              "      <td>ja</td>\n",
              "    </tr>\n",
              "    <tr>\n",
              "      <th>19527968</th>\n",
              "      <td>9916852</td>\n",
              "      <td>5</td>\n",
              "      <td>Episódio #3.20</td>\n",
              "      <td>PT</td>\n",
              "      <td>pt</td>\n",
              "    </tr>\n",
              "    <tr>\n",
              "      <th>19527969</th>\n",
              "      <td>9916852</td>\n",
              "      <td>6</td>\n",
              "      <td>Episodio #3.20</td>\n",
              "      <td>IT</td>\n",
              "      <td>it</td>\n",
              "    </tr>\n",
              "    <tr>\n",
              "      <th>19527970</th>\n",
              "      <td>9916852</td>\n",
              "      <td>7</td>\n",
              "      <td>एपिसोड #3.20</td>\n",
              "      <td>IN</td>\n",
              "      <td>hi</td>\n",
              "    </tr>\n",
              "  </tbody>\n",
              "</table>\n",
              "<p>19527971 rows × 5 columns</p>\n",
              "</div>"
            ],
            "text/plain": [
              "          titleId  ordering                      title region language\n",
              "0               1         1  Carmencita - spanyol tánc     HU       \\N\n",
              "1               1         2                 Καρμενσίτα     GR       \\N\n",
              "2               1         3                 Карменсита     RU       \\N\n",
              "3               1         4                 Carmencita     US       \\N\n",
              "4               1         5                 Carmencita     \\N       \\N\n",
              "...           ...       ...                        ...    ...      ...\n",
              "19527966  9916852         3                Folge #3.20     DE       de\n",
              "19527967  9916852         4                エピソード #3.20     JP       ja\n",
              "19527968  9916852         5             Episódio #3.20     PT       pt\n",
              "19527969  9916852         6             Episodio #3.20     IT       it\n",
              "19527970  9916852         7               एपिसोड #3.20     IN       hi\n",
              "\n",
              "[19527971 rows x 5 columns]"
            ]
          },
          "metadata": {
            "tags": []
          },
          "execution_count": 34
        }
      ]
    },
    {
      "cell_type": "code",
      "metadata": {
        "id": "vzh0vI_hYtj3"
      },
      "source": [
        "imdb_movies.to_csv(r\"/content/drive/MyDrive/data/new/title.akas.csv\",sep=',', index = False)\n"
      ],
      "execution_count": null,
      "outputs": []
    }
  ]
}